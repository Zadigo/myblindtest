{
 "cells": [
  {
   "cell_type": "code",
   "execution_count": 1,
   "id": "a353cac3",
   "metadata": {},
   "outputs": [],
   "source": [
    "import os\n",
    "import pathlib\n",
    "\n",
    "import django\n",
    "import datetime\n",
    "import dotenv\n",
    "import pandas\n",
    "from django.conf import settings"
   ]
  },
  {
   "cell_type": "code",
   "execution_count": 2,
   "id": "4704069c",
   "metadata": {},
   "outputs": [],
   "source": [
    "BASE_DIR = pathlib.Path('.')"
   ]
  },
  {
   "cell_type": "code",
   "execution_count": 3,
   "id": "1ceb0fd6",
   "metadata": {},
   "outputs": [
    {
     "data": {
      "text/plain": [
       "True"
      ]
     },
     "execution_count": 3,
     "metadata": {},
     "output_type": "execute_result"
    }
   ],
   "source": [
    "dotenv.load_dotenv(BASE_DIR / '.env')"
   ]
  },
  {
   "cell_type": "code",
   "execution_count": 4,
   "id": "adc13301",
   "metadata": {},
   "outputs": [],
   "source": [
    "try:\n",
    "    settings.configure(**{\n",
    "        'DEBUG': True,\n",
    "        'BASE_DIR': BASE_DIR,\n",
    "        'INSTALLED_APPS': [\n",
    "            'songs'\n",
    "        ],\n",
    "        'DATABASES': {\n",
    "            'default': {\n",
    "                'ENGINE': 'django.db.backends.sqlite3',\n",
    "                'NAME': BASE_DIR / 'db.sqlite3',\n",
    "            }\n",
    "        },\n",
    "        'MEDIA_PATH': BASE_DIR / 'media'\n",
    "    })\n",
    "except:\n",
    "    pass"
   ]
  },
  {
   "cell_type": "code",
   "execution_count": 5,
   "id": "d2fe54f1",
   "metadata": {},
   "outputs": [
    {
     "data": {
      "text/plain": [
       "'true'"
      ]
     },
     "execution_count": 5,
     "metadata": {},
     "output_type": "execute_result"
    }
   ],
   "source": [
    "os.environ.setdefault('DJANGO_ALLOW_ASYNC_UNSAFE', 'true')"
   ]
  },
  {
   "cell_type": "code",
   "execution_count": 6,
   "id": "1950023b",
   "metadata": {},
   "outputs": [],
   "source": [
    "try:\n",
    "    django.setup()\n",
    "except:\n",
    "    pass"
   ]
  },
  {
   "cell_type": "markdown",
   "id": "36b925f4",
   "metadata": {},
   "source": [
    "## Songs"
   ]
  },
  {
   "cell_type": "code",
   "execution_count": 7,
   "id": "8bc314b4",
   "metadata": {},
   "outputs": [],
   "source": [
    "from songs.models import Song"
   ]
  },
  {
   "cell_type": "code",
   "execution_count": 36,
   "id": "4e7e6d05",
   "metadata": {},
   "outputs": [],
   "source": [
    "songs = Song.objects.filter(year=0).values_list('id', 'artist__name', 'name', 'year')"
   ]
  },
  {
   "cell_type": "code",
   "execution_count": 37,
   "id": "9a80b7ad",
   "metadata": {},
   "outputs": [],
   "source": [
    "songs_df = pandas.DataFrame(songs, columns=['id', 'artist', 'name', 'year'])"
   ]
  },
  {
   "cell_type": "code",
   "execution_count": 38,
   "id": "865a4e35",
   "metadata": {},
   "outputs": [],
   "source": [
    "songs_df.rename(columns={'id': 'dbid'}, inplace=True)"
   ]
  },
  {
   "cell_type": "code",
   "execution_count": 39,
   "id": "fb4c39a1",
   "metadata": {},
   "outputs": [
    {
     "data": {
      "text/plain": [
       "count            69\n",
       "unique           69\n",
       "top       The Curse\n",
       "freq              1\n",
       "Name: name, dtype: object"
      ]
     },
     "execution_count": 39,
     "metadata": {},
     "output_type": "execute_result"
    }
   ],
   "source": [
    "songs_df.name.describe()"
   ]
  },
  {
   "cell_type": "code",
   "execution_count": 40,
   "id": "71e8bdb1",
   "metadata": {},
   "outputs": [],
   "source": [
    "songs_df.sort_values('name', inplace=True)"
   ]
  },
  {
   "cell_type": "code",
   "execution_count": 41,
   "id": "24a7c293",
   "metadata": {},
   "outputs": [
    {
     "data": {
      "text/html": [
       "<div>\n",
       "<style scoped>\n",
       "    .dataframe tbody tr th:only-of-type {\n",
       "        vertical-align: middle;\n",
       "    }\n",
       "\n",
       "    .dataframe tbody tr th {\n",
       "        vertical-align: top;\n",
       "    }\n",
       "\n",
       "    .dataframe thead th {\n",
       "        text-align: right;\n",
       "    }\n",
       "</style>\n",
       "<table border=\"1\" class=\"dataframe\">\n",
       "  <thead>\n",
       "    <tr style=\"text-align: right;\">\n",
       "      <th></th>\n",
       "      <th>dbid</th>\n",
       "      <th>artist</th>\n",
       "      <th>name</th>\n",
       "      <th>year</th>\n",
       "    </tr>\n",
       "  </thead>\n",
       "  <tbody>\n",
       "    <tr>\n",
       "      <th>63</th>\n",
       "      <td>553</td>\n",
       "      <td>Umngan'wami</td>\n",
       "      <td>Babes</td>\n",
       "      <td>0</td>\n",
       "    </tr>\n",
       "    <tr>\n",
       "      <th>36</th>\n",
       "      <td>382</td>\n",
       "      <td>Moriarty Meets Mama Rosin</td>\n",
       "      <td>Calypso Triste</td>\n",
       "      <td>0</td>\n",
       "    </tr>\n",
       "    <tr>\n",
       "      <th>44</th>\n",
       "      <td>411</td>\n",
       "      <td>Ouais Chery</td>\n",
       "      <td>Collabo</td>\n",
       "      <td>0</td>\n",
       "    </tr>\n",
       "    <tr>\n",
       "      <th>33</th>\n",
       "      <td>361</td>\n",
       "      <td>Mesparrow</td>\n",
       "      <td>I Don't Want To Grow Up</td>\n",
       "      <td>0</td>\n",
       "    </tr>\n",
       "    <tr>\n",
       "      <th>27</th>\n",
       "      <td>254</td>\n",
       "      <td>Jiva Phez'kombhede</td>\n",
       "      <td>Jiva Phez'kombhede</td>\n",
       "      <td>0</td>\n",
       "    </tr>\n",
       "  </tbody>\n",
       "</table>\n",
       "</div>"
      ],
      "text/plain": [
       "    dbid                     artist                     name  year\n",
       "63   553                Umngan'wami                    Babes     0\n",
       "36   382  Moriarty Meets Mama Rosin           Calypso Triste     0\n",
       "44   411                Ouais Chery                  Collabo     0\n",
       "33   361                  Mesparrow  I Don't Want To Grow Up     0\n",
       "27   254         Jiva Phez'kombhede       Jiva Phez'kombhede     0"
      ]
     },
     "execution_count": 41,
     "metadata": {},
     "output_type": "execute_result"
    }
   ],
   "source": [
    "songs_df.head()"
   ]
  },
  {
   "cell_type": "code",
   "execution_count": 42,
   "id": "cd2a2bda",
   "metadata": {},
   "outputs": [],
   "source": [
    "songs_df.to_csv('songs-to-enrich.csv')"
   ]
  },
  {
   "cell_type": "code",
   "execution_count": 43,
   "id": "983a188a",
   "metadata": {},
   "outputs": [],
   "source": [
    "ENRICHMENT_FILE = '/Users/johnpendenque/Downloads/songs.csv'"
   ]
  },
  {
   "cell_type": "code",
   "execution_count": 44,
   "id": "51bea506",
   "metadata": {},
   "outputs": [],
   "source": [
    "enriched_songs = pandas.read_csv(ENRICHMENT_FILE)"
   ]
  },
  {
   "cell_type": "code",
   "execution_count": 45,
   "id": "8e3a2f2a",
   "metadata": {},
   "outputs": [
    {
     "data": {
      "text/html": [
       "<div>\n",
       "<style scoped>\n",
       "    .dataframe tbody tr th:only-of-type {\n",
       "        vertical-align: middle;\n",
       "    }\n",
       "\n",
       "    .dataframe tbody tr th {\n",
       "        vertical-align: top;\n",
       "    }\n",
       "\n",
       "    .dataframe thead th {\n",
       "        text-align: right;\n",
       "    }\n",
       "</style>\n",
       "<table border=\"1\" class=\"dataframe\">\n",
       "  <thead>\n",
       "    <tr style=\"text-align: right;\">\n",
       "      <th></th>\n",
       "      <th>Unnamed: 0</th>\n",
       "      <th>dbid</th>\n",
       "      <th>artist</th>\n",
       "      <th>name</th>\n",
       "      <th>year</th>\n",
       "    </tr>\n",
       "  </thead>\n",
       "  <tbody>\n",
       "    <tr>\n",
       "      <th>0</th>\n",
       "      <td>63</td>\n",
       "      <td>553</td>\n",
       "      <td>Umngan'wami</td>\n",
       "      <td>Babes</td>\n",
       "      <td>0</td>\n",
       "    </tr>\n",
       "    <tr>\n",
       "      <th>1</th>\n",
       "      <td>36</td>\n",
       "      <td>382</td>\n",
       "      <td>Moriarty Meets Mama Rosin</td>\n",
       "      <td>Calypso Triste</td>\n",
       "      <td>2011</td>\n",
       "    </tr>\n",
       "    <tr>\n",
       "      <th>2</th>\n",
       "      <td>44</td>\n",
       "      <td>411</td>\n",
       "      <td>Ouais Chery</td>\n",
       "      <td>Collabo</td>\n",
       "      <td>0</td>\n",
       "    </tr>\n",
       "    <tr>\n",
       "      <th>3</th>\n",
       "      <td>33</td>\n",
       "      <td>361</td>\n",
       "      <td>Mesparrow</td>\n",
       "      <td>I Don't Want To Grow Up</td>\n",
       "      <td>2013</td>\n",
       "    </tr>\n",
       "    <tr>\n",
       "      <th>4</th>\n",
       "      <td>27</td>\n",
       "      <td>254</td>\n",
       "      <td>Jiva Phez'kombhede</td>\n",
       "      <td>Jiva Phez'kombhede</td>\n",
       "      <td>0</td>\n",
       "    </tr>\n",
       "  </tbody>\n",
       "</table>\n",
       "</div>"
      ],
      "text/plain": [
       "   Unnamed: 0  dbid                     artist                     name  year\n",
       "0          63   553                Umngan'wami                    Babes     0\n",
       "1          36   382  Moriarty Meets Mama Rosin           Calypso Triste  2011\n",
       "2          44   411                Ouais Chery                  Collabo     0\n",
       "3          33   361                  Mesparrow  I Don't Want To Grow Up  2013\n",
       "4          27   254         Jiva Phez'kombhede       Jiva Phez'kombhede     0"
      ]
     },
     "execution_count": 45,
     "metadata": {},
     "output_type": "execute_result"
    }
   ],
   "source": [
    "enriched_songs.head()"
   ]
  },
  {
   "cell_type": "code",
   "execution_count": 46,
   "id": "e9ea764a",
   "metadata": {},
   "outputs": [],
   "source": [
    "for item in  enriched_songs.itertuples():\n",
    "    song = Song.objects.get(id=item.dbid)\n",
    "    song.year = item.year\n",
    "    song.save()"
   ]
  },
  {
   "cell_type": "markdown",
   "id": "7b2c99d0",
   "metadata": {},
   "source": [
    "## Artist"
   ]
  },
  {
   "cell_type": "code",
   "execution_count": 8,
   "id": "ecf7f25e",
   "metadata": {},
   "outputs": [],
   "source": [
    "from songs.models import Artist"
   ]
  },
  {
   "cell_type": "code",
   "execution_count": 9,
   "id": "b55d0e93",
   "metadata": {},
   "outputs": [],
   "source": [
    "artist = Artist.objects.get(id=123)"
   ]
  },
  {
   "cell_type": "code",
   "execution_count": 76,
   "id": "1322c84b",
   "metadata": {},
   "outputs": [],
   "source": [
    "qs_artists = Artist.objects.filter(wikipedia_page='nan').values_list(\n",
    "    'name', 'is_group', 'date_of_birth', 'wikipedia_page')"
   ]
  },
  {
   "cell_type": "code",
   "execution_count": 77,
   "id": "c4225975",
   "metadata": {},
   "outputs": [],
   "source": [
    "df_artists = pandas.DataFrame(list(qs_artists), columns=[\n",
    "                              'name', 'is_group', 'date_of_birth', 'wikipedia_page'])"
   ]
  },
  {
   "cell_type": "code",
   "execution_count": 78,
   "id": "b84366e6",
   "metadata": {},
   "outputs": [
    {
     "data": {
      "text/html": [
       "<div>\n",
       "<style scoped>\n",
       "    .dataframe tbody tr th:only-of-type {\n",
       "        vertical-align: middle;\n",
       "    }\n",
       "\n",
       "    .dataframe tbody tr th {\n",
       "        vertical-align: top;\n",
       "    }\n",
       "\n",
       "    .dataframe thead th {\n",
       "        text-align: right;\n",
       "    }\n",
       "</style>\n",
       "<table border=\"1\" class=\"dataframe\">\n",
       "  <thead>\n",
       "    <tr style=\"text-align: right;\">\n",
       "      <th></th>\n",
       "      <th>name</th>\n",
       "      <th>is_group</th>\n",
       "      <th>date_of_birth</th>\n",
       "      <th>wikipedia_page</th>\n",
       "    </tr>\n",
       "  </thead>\n",
       "  <tbody>\n",
       "    <tr>\n",
       "      <th>count</th>\n",
       "      <td>62</td>\n",
       "      <td>62</td>\n",
       "      <td>24</td>\n",
       "      <td>62</td>\n",
       "    </tr>\n",
       "    <tr>\n",
       "      <th>unique</th>\n",
       "      <td>62</td>\n",
       "      <td>2</td>\n",
       "      <td>24</td>\n",
       "      <td>1</td>\n",
       "    </tr>\n",
       "    <tr>\n",
       "      <th>top</th>\n",
       "      <td>1T1</td>\n",
       "      <td>False</td>\n",
       "      <td>1997-06-15</td>\n",
       "      <td>nan</td>\n",
       "    </tr>\n",
       "    <tr>\n",
       "      <th>freq</th>\n",
       "      <td>1</td>\n",
       "      <td>56</td>\n",
       "      <td>1</td>\n",
       "      <td>62</td>\n",
       "    </tr>\n",
       "  </tbody>\n",
       "</table>\n",
       "</div>"
      ],
      "text/plain": [
       "       name is_group date_of_birth wikipedia_page\n",
       "count    62       62            24             62\n",
       "unique   62        2            24              1\n",
       "top     1T1    False    1997-06-15            nan\n",
       "freq      1       56             1             62"
      ]
     },
     "execution_count": 78,
     "metadata": {},
     "output_type": "execute_result"
    }
   ],
   "source": [
    "df_artists.describe()"
   ]
  },
  {
   "cell_type": "code",
   "execution_count": 79,
   "id": "91992955",
   "metadata": {},
   "outputs": [],
   "source": [
    "df_artists.to_csv('artists_no_dob_wiki.csv', index=False)"
   ]
  },
  {
   "cell_type": "code",
   "execution_count": 70,
   "id": "74b213b7",
   "metadata": {},
   "outputs": [],
   "source": [
    "ENRICHMENT_FILE = '/Users/johnpendenque/Downloads/enrich.csv'"
   ]
  },
  {
   "cell_type": "code",
   "execution_count": 58,
   "id": "29dd89d1",
   "metadata": {},
   "outputs": [],
   "source": [
    "df_enrichment = pandas.read_csv(ENRICHMENT_FILE)"
   ]
  },
  {
   "cell_type": "code",
   "execution_count": 59,
   "id": "f9330697",
   "metadata": {},
   "outputs": [
    {
     "data": {
      "text/html": [
       "<div>\n",
       "<style scoped>\n",
       "    .dataframe tbody tr th:only-of-type {\n",
       "        vertical-align: middle;\n",
       "    }\n",
       "\n",
       "    .dataframe tbody tr th {\n",
       "        vertical-align: top;\n",
       "    }\n",
       "\n",
       "    .dataframe thead th {\n",
       "        text-align: right;\n",
       "    }\n",
       "</style>\n",
       "<table border=\"1\" class=\"dataframe\">\n",
       "  <thead>\n",
       "    <tr style=\"text-align: right;\">\n",
       "      <th></th>\n",
       "      <th>name</th>\n",
       "      <th>is_group</th>\n",
       "      <th>date_of_birth</th>\n",
       "      <th>wikipedia_page</th>\n",
       "    </tr>\n",
       "  </thead>\n",
       "  <tbody>\n",
       "    <tr>\n",
       "      <th>0</th>\n",
       "      <td>1T1</td>\n",
       "      <td>False</td>\n",
       "      <td>NaN</td>\n",
       "      <td>NaN</td>\n",
       "    </tr>\n",
       "    <tr>\n",
       "      <th>1</th>\n",
       "      <td>Alexander</td>\n",
       "      <td>False</td>\n",
       "      <td>NaN</td>\n",
       "      <td>NaN</td>\n",
       "    </tr>\n",
       "    <tr>\n",
       "      <th>2</th>\n",
       "      <td>Bach</td>\n",
       "      <td>False</td>\n",
       "      <td>NaN</td>\n",
       "      <td>NaN</td>\n",
       "    </tr>\n",
       "    <tr>\n",
       "      <th>3</th>\n",
       "      <td>Bali Baby</td>\n",
       "      <td>False</td>\n",
       "      <td>1997-06-15</td>\n",
       "      <td>NaN</td>\n",
       "    </tr>\n",
       "    <tr>\n",
       "      <th>4</th>\n",
       "      <td>BazBaz</td>\n",
       "      <td>False</td>\n",
       "      <td>NaN</td>\n",
       "      <td>NaN</td>\n",
       "    </tr>\n",
       "  </tbody>\n",
       "</table>\n",
       "</div>"
      ],
      "text/plain": [
       "        name  is_group date_of_birth wikipedia_page\n",
       "0        1T1     False           NaN            NaN\n",
       "1  Alexander     False           NaN            NaN\n",
       "2       Bach     False           NaN            NaN\n",
       "3  Bali Baby     False    1997-06-15            NaN\n",
       "4     BazBaz     False           NaN            NaN"
      ]
     },
     "execution_count": 59,
     "metadata": {},
     "output_type": "execute_result"
    }
   ],
   "source": [
    "df_enrichment.head()"
   ]
  },
  {
   "cell_type": "code",
   "execution_count": 60,
   "id": "d14f4067",
   "metadata": {},
   "outputs": [],
   "source": [
    "from pandas import isna\n",
    "\n",
    "\n",
    "for item in df_enrichment.itertuples():\n",
    "    try:\n",
    "        artist = Artist.objects.get(name=item.name)\n",
    "    except:\n",
    "        continue\n",
    "    else:\n",
    "        if isinstance(item.date_of_birth, str):\n",
    "            try:\n",
    "                d = datetime.datetime.strptime(item.date_of_birth, '%d-%m-%Y').date()\n",
    "            except:\n",
    "                d = datetime.datetime.strptime(item.date_of_birth, '%Y-%m-%d').date()\n",
    "\n",
    "            artist.date_of_birth = d\n",
    "\n",
    "        artist.wikipedia_page = item.wikipedia_page\n",
    "        artist.is_group = item.is_group\n",
    "        artist.save()"
   ]
  },
  {
   "cell_type": "code",
   "execution_count": null,
   "id": "1cb60bd2",
   "metadata": {},
   "outputs": [],
   "source": []
  }
 ],
 "metadata": {
  "kernelspec": {
   "display_name": "Python 3",
   "language": "python",
   "name": "python3"
  },
  "language_info": {
   "codemirror_mode": {
    "name": "ipython",
    "version": 3
   },
   "file_extension": ".py",
   "mimetype": "text/x-python",
   "name": "python",
   "nbconvert_exporter": "python",
   "pygments_lexer": "ipython3",
   "version": "3.13.7"
  }
 },
 "nbformat": 4,
 "nbformat_minor": 5
}
