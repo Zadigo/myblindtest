{
 "cells": [
  {
   "cell_type": "code",
   "execution_count": 1,
   "id": "2f6e4892",
   "metadata": {},
   "outputs": [],
   "source": [
    "import django\n",
    "from django.conf import settings\n",
    "import pathlib\n",
    "import os\n",
    "import dotenv\n",
    "import pandas"
   ]
  },
  {
   "cell_type": "code",
   "execution_count": 2,
   "id": "3392a2a4",
   "metadata": {},
   "outputs": [],
   "source": [
    "BASE_DIR = pathlib.Path('.')"
   ]
  },
  {
   "cell_type": "code",
   "execution_count": 3,
   "id": "87546481",
   "metadata": {},
   "outputs": [
    {
     "data": {
      "text/plain": [
       "True"
      ]
     },
     "execution_count": 3,
     "metadata": {},
     "output_type": "execute_result"
    }
   ],
   "source": [
    "dotenv.load_dotenv(BASE_DIR / '.env')"
   ]
  },
  {
   "cell_type": "code",
   "execution_count": 4,
   "id": "385cdc8f",
   "metadata": {},
   "outputs": [],
   "source": [
    "try:\n",
    "    settings.configure(**{\n",
    "        'DEBUG': True,\n",
    "        'BASE_DIR': BASE_DIR,\n",
    "        'INSTALLED_APPS': [\n",
    "            'songs'\n",
    "        ],\n",
    "        'DATABASES': {\n",
    "            'default': {\n",
    "                'ENGINE': 'django.db.backends.sqlite3',\n",
    "                'NAME': BASE_DIR / 'db.sqlite3',\n",
    "            }\n",
    "        },\n",
    "        'MEDIA_PATH': BASE_DIR / 'media'\n",
    "    })\n",
    "except:\n",
    "    pass"
   ]
  },
  {
   "cell_type": "code",
   "execution_count": 5,
   "id": "9b71dd1a",
   "metadata": {},
   "outputs": [
    {
     "data": {
      "text/plain": [
       "'true'"
      ]
     },
     "execution_count": 5,
     "metadata": {},
     "output_type": "execute_result"
    }
   ],
   "source": [
    "os.environ.setdefault('DJANGO_ALLOW_ASYNC_UNSAFE', 'true')"
   ]
  },
  {
   "cell_type": "code",
   "execution_count": 6,
   "id": "999ba857",
   "metadata": {},
   "outputs": [],
   "source": [
    "try:\n",
    "    django.setup()\n",
    "except:\n",
    "    pass"
   ]
  },
  {
   "cell_type": "code",
   "execution_count": 36,
   "id": "a80478c6",
   "metadata": {},
   "outputs": [],
   "source": [
    "artists = pandas.read_csv(BASE_DIR / 'media' / 'base_artists_v1.csv', parse_dates=True)"
   ]
  },
  {
   "cell_type": "code",
   "execution_count": 37,
   "id": "f00729bc",
   "metadata": {},
   "outputs": [],
   "source": [
    "songs = pandas.read_csv(BASE_DIR / 'media' / 'base_songs_v1.csv')"
   ]
  },
  {
   "cell_type": "code",
   "execution_count": 38,
   "id": "e4af7c1a",
   "metadata": {},
   "outputs": [],
   "source": [
    "from songs.models import Artist"
   ]
  },
  {
   "cell_type": "code",
   "execution_count": 39,
   "id": "9290fabc",
   "metadata": {},
   "outputs": [],
   "source": [
    "created_artists = []"
   ]
  },
  {
   "cell_type": "code",
   "execution_count": 44,
   "id": "c8301dc3",
   "metadata": {},
   "outputs": [],
   "source": [
    "def create_artists():\n",
    "    for item in artists.itertuples(name='Artist'):\n",
    "        defaults = {\n",
    "            'name': item.name, \n",
    "            'birthname': item.birthname, \n",
    "            'spotify_id': item.spotify_id, \n",
    "            'genre': item.genre, \n",
    "            'spotify_avatar': item.spotify_avatar, \n",
    "            'wikipedia_page': item.wikipedia_page\n",
    "        }\n",
    "\n",
    "        if not pandas.isna(item.date_of_birth):\n",
    "            defaults['date_of_birth'] = item.date_of_birth\n",
    "        \n",
    "        try:\n",
    "            artist, _ = Artist.objects.get_or_create(defaults=defaults, name=item.name)\n",
    "        except Exception as e:\n",
    "            print(e.args, item)\n",
    "        else:\n",
    "            created_artists.append(artist)"
   ]
  },
  {
   "cell_type": "code",
   "execution_count": 49,
   "id": "1ff99962",
   "metadata": {},
   "outputs": [],
   "source": [
    "def create_songs():\n",
    "    for item in songs.itertuples(name='Artist'):\n",
    "        try:\n",
    "            artist = Artist.objects.get(name=item.artist)\n",
    "        except:\n",
    "            print(f'Failed to get: {item}')\n",
    "        else:\n",
    "            artist.song_set.get_or_create(\n",
    "                defaults={\n",
    "                    'genre': item.genre,\n",
    "                    'featured_artists': item.featured_artists, \n",
    "                    'youtube_id': item.youtube_id,\n",
    "                    'year': item.year,\n",
    "                    'difficulty': item.difficulty\n",
    "                },\n",
    "                name=item.name\n",
    "            )"
   ]
  },
  {
   "cell_type": "code",
   "execution_count": null,
   "id": "c0c2b943",
   "metadata": {},
   "outputs": [],
   "source": [
    "create_artists()"
   ]
  },
  {
   "cell_type": "code",
   "execution_count": 51,
   "id": "cd707089",
   "metadata": {},
   "outputs": [],
   "source": [
    "create_songs()"
   ]
  }
 ],
 "metadata": {
  "kernelspec": {
   "display_name": "Python 3",
   "language": "python",
   "name": "python3"
  },
  "language_info": {
   "codemirror_mode": {
    "name": "ipython",
    "version": 3
   },
   "file_extension": ".py",
   "mimetype": "text/x-python",
   "name": "python",
   "nbconvert_exporter": "python",
   "pygments_lexer": "ipython3",
   "version": "3.13.1"
  }
 },
 "nbformat": 4,
 "nbformat_minor": 5
}
